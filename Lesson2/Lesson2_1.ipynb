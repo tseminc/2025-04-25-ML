{
 "cells": [
  {
   "cell_type": "markdown",
   "metadata": {},
   "source": [
    "## 建立一個function"
   ]
  },
  {
   "cell_type": "code",
   "execution_count": 18,
   "metadata": {},
   "outputs": [],
   "source": [
    "def menu(wine : str, entree : str, desert : str) -> dict :\n",
    "    return { \"wine\" : wine, \n",
    "            \"entree\" : entree, \n",
    "            \"desert\" : desert }"
   ]
  },
  {
   "cell_type": "markdown",
   "metadata": {},
   "source": [
    "## 呼叫 function menu (引數值呼叫需要依照參數順序)"
   ]
  },
  {
   "cell_type": "code",
   "execution_count": 19,
   "metadata": {},
   "outputs": [
    {
     "data": {
      "text/plain": [
       "{'wine': 'Wiskey', 'entree': 'Steak', 'desert': 'Cake'}"
      ]
     },
     "execution_count": 19,
     "metadata": {},
     "output_type": "execute_result"
    }
   ],
   "source": [
    "pk : dict = menu(\"Wiskey\", \"Steak\", \"Cake\")\n",
    "pk"
   ]
  },
  {
   "cell_type": "markdown",
   "metadata": {},
   "source": [
    "# 引數名稱呼叫 (可以不依照參數順序)"
   ]
  },
  {
   "cell_type": "code",
   "execution_count": 22,
   "metadata": {},
   "outputs": [
    {
     "data": {
      "text/plain": [
       "{'wine': 'wiskey', 'entree': 'Steak', 'desert': 'Cake'}"
      ]
     },
     "execution_count": 22,
     "metadata": {},
     "output_type": "execute_result"
    }
   ],
   "source": [
    "pk : dict = menu( entree = \"Steak\", desert = \"Cake\", wine = \"wiskey\" )\n",
    "pk"
   ]
  },
  {
   "cell_type": "markdown",
   "metadata": {},
   "source": [
    "# 混合呼叫\n",
    "# 前面要使用引數值呼叫\n",
    "# 後面要使用引數名稱呼叫\n",
    "# 引數名稱呼叫後 , 全部要使用引數名稱呼叫\n"
   ]
  },
  {
   "cell_type": "code",
   "execution_count": 23,
   "metadata": {},
   "outputs": [
    {
     "data": {
      "text/plain": [
       "{'wine': 'wiskey', 'entree': 'Steak', 'desert': 'Cake'}"
      ]
     },
     "execution_count": 23,
     "metadata": {},
     "output_type": "execute_result"
    }
   ],
   "source": [
    "pk : dict = menu( \"wiskey\", desert = \"Cake\", entree = \"Steak\")\n",
    "pk"
   ]
  },
  {
   "cell_type": "markdown",
   "metadata": {},
   "source": [
    "\n",
    "# 參數有default value時，一定要放在最後面"
   ]
  },
  {
   "cell_type": "code",
   "execution_count": 24,
   "metadata": {},
   "outputs": [],
   "source": [
    "\n",
    "def menu(wine:str, entree:str, dessert:str='蛋糕')->dict:\n",
    "    return {\"wine\": wine,\n",
    "            \"entree\": entree, \n",
    "            \"desert\": dessert}"
   ]
  },
  {
   "cell_type": "markdown",
   "metadata": {},
   "source": [
    "\n",
    "# 呼叫有default value的function時， value的參數可以省略\n",
    "# 引數值叫呼"
   ]
  },
  {
   "cell_type": "code",
   "execution_count": 25,
   "metadata": {},
   "outputs": [
    {
     "data": {
      "text/plain": [
       "{'wine': '白酒', 'entree': '牛排', 'desert': '蛋糕'}"
      ]
     },
     "execution_count": 25,
     "metadata": {},
     "output_type": "execute_result"
    }
   ],
   "source": [
    "pk:dict = menu(\"白酒\",\"牛排\")\n",
    "pk"
   ]
  },
  {
   "cell_type": "markdown",
   "metadata": {},
   "source": [
    "\n",
    "# 呼叫有default value function的引數名稱呼叫\n"
   ]
  },
  {
   "cell_type": "code",
   "execution_count": null,
   "metadata": {},
   "outputs": [
    {
     "data": {
      "text/plain": [
       "{'wine': '白酒', 'entree': '牛排', 'desert': '奶昔'}"
      ]
     },
     "execution_count": 28,
     "metadata": {},
     "output_type": "execute_result"
    }
   ],
   "source": [
    "# pk:dict = menu(entree='牛排', wine='白酒')\n",
    "# pk\n",
    "\n",
    "# pk:dict = menu(\"白酒\",entree=\"牛排\")\n",
    "# pk\n",
    "\n",
    "# 更改function的預設值\n",
    "pk:dict = menu(\"白酒\",entree=\"牛排\",dessert=\"奶昔\")\n",
    "pk\n"
   ]
  },
  {
   "cell_type": "markdown",
   "metadata": {},
   "source": [
    "# 以呼叫 print function 為例 ( 呼叫有default value 的 function  )"
   ]
  },
  {
   "cell_type": "code",
   "execution_count": 30,
   "metadata": {},
   "outputs": [
    {
     "name": "stdout",
     "output_type": "stream",
     "text": [
      "1-2-3-4-5-a-b-c.\n",
      "The second line\n"
     ]
    }
   ],
   "source": [
    "\n",
    "print(1,2,3,4,5,'a','b','c',sep='-',end='.\\n')\n",
    "print(\"The second line\")"
   ]
  },
  {
   "cell_type": "code",
   "execution_count": 35,
   "metadata": {},
   "outputs": [
    {
     "name": "stdout",
     "output_type": "stream",
     "text": [
      "1-2-3-4-5-a-b-c.....\n",
      "The second line\n"
     ]
    }
   ],
   "source": [
    "# 更改function的預設值並且不依照參數順序使用引數名稱呼叫\n",
    "\n",
    "print(1,2,3,4,5,'a','b','c',end='.....\\n',sep='-')\n",
    "print(\"The second line\")"
   ]
  }
 ],
 "metadata": {
  "kernelspec": {
   "display_name": ".venv",
   "language": "python",
   "name": "python3"
  },
  "language_info": {
   "codemirror_mode": {
    "name": "ipython",
    "version": 3
   },
   "file_extension": ".py",
   "mimetype": "text/x-python",
   "name": "python",
   "nbconvert_exporter": "python",
   "pygments_lexer": "ipython3",
   "version": "3.13.3"
  }
 },
 "nbformat": 4,
 "nbformat_minor": 2
}
