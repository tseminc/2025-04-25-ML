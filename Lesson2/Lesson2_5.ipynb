{
 "cells": [
  {
   "cell_type": "code",
   "execution_count": 1,
   "metadata": {},
   "outputs": [
    {
     "name": "stdout",
     "output_type": "stream",
     "text": [
      "name:robert\n",
      "chinese:87\n",
      "english:92\n",
      "math:99\n",
      "====================\n",
      "name:alice\n",
      "chinese:97\n",
      "english:76\n",
      "math:97\n",
      "====================\n"
     ]
    }
   ],
   "source": [
    "students : list = [{\"name\":\"robert\", \"chinese\": 87, \"english\": 92, \"math\": 99},\n",
    "                   {\"name\": \"alice\", \"chinese\": 97, \"english\" : 76, \"math\": 97}]\n",
    "\n",
    "for student in students:\n",
    "    for key, value in student.items():\n",
    "        print(key, value, sep = \":\")\n",
    "    print(\"=\"*20)"
   ]
  }
 ],
 "metadata": {
  "kernelspec": {
   "display_name": "flask",
   "language": "python",
   "name": "python3"
  },
  "language_info": {
   "codemirror_mode": {
    "name": "ipython",
    "version": 3
   },
   "file_extension": ".py",
   "mimetype": "text/x-python",
   "name": "python",
   "nbconvert_exporter": "python",
   "pygments_lexer": "ipython3",
   "version": "3.11.11"
  }
 },
 "nbformat": 4,
 "nbformat_minor": 2
}
