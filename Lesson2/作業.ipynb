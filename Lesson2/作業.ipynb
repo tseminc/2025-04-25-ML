{
 "cells": [
  {
   "cell_type": "markdown",
   "metadata": {},
   "source": [
    "# 請讀取names.txt\n",
    "# 將文字儲存於list內\n",
    "# 每次執行可以亂數取出3個姓名"
   ]
  },
  {
   "cell_type": "code",
   "execution_count": 3,
   "metadata": {},
   "outputs": [
    {
     "ename": "UnicodeDecodeError",
     "evalue": "'cp950' codec can't decode byte 0xe9 in position 0: illegal multibyte sequence",
     "output_type": "error",
     "traceback": [
      "\u001b[31m---------------------------------------------------------------------------\u001b[39m",
      "\u001b[31mUnicodeDecodeError\u001b[39m                        Traceback (most recent call last)",
      "\u001b[36mCell\u001b[39m\u001b[36m \u001b[39m\u001b[32mIn[3]\u001b[39m\u001b[32m, line 9\u001b[39m\n\u001b[32m      6\u001b[39m     \u001b[38;5;28mprint\u001b[39m (\u001b[38;5;28mrepr\u001b[39m(line1))    \u001b[38;5;66;03m#列印一行以及功能符號(如\\n\\t)\u001b[39;00m\n\u001b[32m      7\u001b[39m     readfile.close()\n\u001b[32m----> \u001b[39m\u001b[32m9\u001b[39m \u001b[43mreadFile\u001b[49m\u001b[43m(\u001b[49m\u001b[33;43m\"\u001b[39;49m\u001b[33;43m./names.txt\u001b[39;49m\u001b[33;43m\"\u001b[39;49m\u001b[43m)\u001b[49m    \n",
      "\u001b[36mCell\u001b[39m\u001b[36m \u001b[39m\u001b[32mIn[3]\u001b[39m\u001b[32m, line 4\u001b[39m, in \u001b[36mreadFile\u001b[39m\u001b[34m(filename)\u001b[39m\n\u001b[32m      2\u001b[39m readfile = \u001b[38;5;28mopen\u001b[39m( filename ,\u001b[33m'\u001b[39m\u001b[33mr\u001b[39m\u001b[33m'\u001b[39m)\n\u001b[32m      3\u001b[39m \u001b[38;5;66;03m# line1 = readfile.read()   #讀取檔案全部內容\u001b[39;00m\n\u001b[32m----> \u001b[39m\u001b[32m4\u001b[39m line1 = \u001b[43mreadfile\u001b[49m\u001b[43m.\u001b[49m\u001b[43mreadline\u001b[49m\u001b[43m(\u001b[49m\u001b[43m)\u001b[49m \u001b[38;5;66;03m#讀取一行\u001b[39;00m\n\u001b[32m      5\u001b[39m \u001b[38;5;28mprint\u001b[39m (line1)               \u001b[38;5;66;03m#列印一行\u001b[39;00m\n\u001b[32m      6\u001b[39m \u001b[38;5;28mprint\u001b[39m (\u001b[38;5;28mrepr\u001b[39m(line1))    \u001b[38;5;66;03m#列印一行以及功能符號(如\\n\\t)\u001b[39;00m\n",
      "\u001b[31mUnicodeDecodeError\u001b[39m: 'cp950' codec can't decode byte 0xe9 in position 0: illegal multibyte sequence"
     ]
    }
   ],
   "source": [
    "def readFile( filename : str ):       #讀取檔案內容\n",
    "    readfile = open( filename ,'r')\n",
    "    # line1 = readfile.read()   #讀取檔案全部內容\n",
    "    line1 = readfile.readline() #讀取一行\n",
    "    print (line1)               #列印一行\n",
    "    print (repr(line1))    #列印一行以及功能符號(如\\n\\t)\n",
    "    readfile.close()\n",
    "\n",
    "readFile(\"./names.txt\")    \n"
   ]
  }
 ],
 "metadata": {
  "kernelspec": {
   "display_name": ".venv",
   "language": "python",
   "name": "python3"
  },
  "language_info": {
   "codemirror_mode": {
    "name": "ipython",
    "version": 3
   },
   "file_extension": ".py",
   "mimetype": "text/x-python",
   "name": "python",
   "nbconvert_exporter": "python",
   "pygments_lexer": "ipython3",
   "version": "3.13.2"
  }
 },
 "nbformat": 4,
 "nbformat_minor": 2
}
