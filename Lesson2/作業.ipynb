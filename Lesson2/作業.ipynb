{
 "cells": [
  {
   "cell_type": "markdown",
   "metadata": {},
   "source": [
    "### 請讀取names.txt\n",
    "### 將文字儲存於list內\n",
    "### 每次執行可以亂數取出3個姓名"
   ]
  },
  {
   "cell_type": "code",
   "execution_count": 37,
   "metadata": {},
   "outputs": [
    {
     "name": "stdout",
     "output_type": "stream",
     "text": [
      "輸出姓名: ['高智超', '吳振瑋', '錢欣潔']\n"
     ]
    }
   ],
   "source": [
    "\n",
    "import os, random\n",
    "\n",
    "# os.system(\"ls -la\")\n",
    "\n",
    "def main():\n",
    "    nameList = []                           #建立一個空串列\n",
    "    nameList = FileToList(\"./names.txt\")    #呼叫函式FileToList並給予檔名參數\n",
    "                                            #式FileToList將回傳以檔案內容組成的串列\n",
    "    print(f'輸出姓名: {random.sample( nameList, k = 3 )}') #列印亂數產生器傳回的結果\n",
    "\n",
    "def FileToList( filename : str ):\n",
    "    file_content = open( filename , 'r' )            #開檔並讀取檔案內容\n",
    "    name_list = [line.strip() for line in file_content]  #去除每一筆姓名前後的空白與換行\n",
    "                                                     #透過迴圈一筆一筆放入串列內\n",
    "    file_content.close()                             #關閉檔案\n",
    "    return name_list                                 #回傳包含檔案內容的串列\n",
    "\n",
    "main()\n"
   ]
  }
 ],
 "metadata": {
  "kernelspec": {
   "display_name": ".venv",
   "language": "python",
   "name": "python3"
  },
  "language_info": {
   "codemirror_mode": {
    "name": "ipython",
    "version": 3
   },
   "file_extension": ".py",
   "mimetype": "text/x-python",
   "name": "python",
   "nbconvert_exporter": "python",
   "pygments_lexer": "ipython3",
   "version": "3.13.3"
  }
 },
 "nbformat": 4,
 "nbformat_minor": 2
}
