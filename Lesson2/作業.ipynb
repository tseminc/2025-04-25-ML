{
 "cells": [
  {
   "cell_type": "markdown",
   "metadata": {},
   "source": [
    "### 請讀取names.txt\n",
    "### 將文字儲存於list內\n",
    "### 每次執行可以亂數取出3個姓名\n",
    "\n",
    "### 演算法\n",
    "1. 開啟檔案\n",
    "2. 讀取內容\n",
    "3. 取得整理後的資料內容\n",
    "4. 關閉檔案\n",
    "5. 將整理後的資料內容投入亂數產生器後輸出\n"
   ]
  },
  {
   "cell_type": "code",
   "execution_count": 10,
   "metadata": {},
   "outputs": [
    {
     "name": "stdout",
     "output_type": "stream",
     "text": [
      "輸出姓名: ['楊建安', '李湘婷', '吳欣書']\n"
     ]
    }
   ],
   "source": [
    "\n",
    "import os, random\n",
    "\n",
    "def main():\n",
    "    nameList = []                           #建立一個空串列\n",
    "    nameList = FileToList(\"./names.txt\")    #呼叫函式FileToList並給予檔名參數\n",
    "                                            #式FileToList將回傳以檔案內容組成的串列\n",
    "    print(f'輸出姓名: { nameList }')         #列印亂數產生器傳回的結果\n",
    "\n",
    "def FileToList( filename : str ):\n",
    "    with open( filename , encoding='utf-8' ) as file :      #開檔\n",
    "        namee_dirty_str : str =  file.read()                #並讀取檔案內容\n",
    "        name_list : list[ str] = namee_dirty_str.split()  #串列內每一筆姓名前後的空白與換行予以清除\n",
    "    random_name_list = random.sample( name_list, 3 )        #列印亂數產生器傳回的結果\n",
    "\n",
    "    return random_name_list                                 #回傳包含檔案內容的串列\n",
    "\n",
    "main()\n"
   ]
  }
 ],
 "metadata": {
  "kernelspec": {
   "display_name": "flask",
   "language": "python",
   "name": "python3"
  },
  "language_info": {
   "codemirror_mode": {
    "name": "ipython",
    "version": 3
   },
   "file_extension": ".py",
   "mimetype": "text/x-python",
   "name": "python",
   "nbconvert_exporter": "python",
   "pygments_lexer": "ipython3",
   "version": "3.11.11"
  }
 },
 "nbformat": 4,
 "nbformat_minor": 2
}
